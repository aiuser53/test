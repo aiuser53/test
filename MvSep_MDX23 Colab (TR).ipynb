{
  "cells": [
    {
      "cell_type": "markdown",
      "metadata": {
        "id": "view-in-github",
        "colab_type": "text"
      },
      "source": [
        "<a href=\"https://colab.research.google.com/github/aiuser53/test/blob/main/MvSep_MDX23%20Colab%20(TR).ipynb\" target=\"_parent\"><img src=\"https://colab.research.google.com/assets/colab-badge.svg\" alt=\"Open In Colab\"/></a>"
      ]
    },
    {
      "cell_type": "markdown",
      "metadata": {
        "id": "TkR0saXIcvyC"
      },
      "source": [
        "# MVSep MDX23 Colab\n",
        "MDX23 algoritmasının Colab versiyonu [MVSEP.COM](https://www.mvsep.com)\n",
        "\n",
        "Credits:\n",
        "* [https://github.com/ZFTurbo/MVSEP-MDX23-music-separation-model](https://github.com/ZFTurbo/MVSEP-MDX23-music-separation-model)\n",
        "* Modeller [Demucs](https://github.com/facebookresearch/demucs) & Kimberley Jensen tarafından"
      ]
    },
    {
      "cell_type": "code",
      "execution_count": 1,
      "metadata": {
        "cellView": "form",
        "id": "uWX5WOqjU0QC",
        "outputId": "9bc6c5b3-3be3-4bfd-bad3-24d7b4e09811",
        "colab": {
          "base_uri": "https://localhost:8080/"
        }
      },
      "outputs": [
        {
          "output_type": "stream",
          "name": "stdout",
          "text": [
            "Yükleniyor. Bu işlem 1 dakika sürecektir...\n",
            "Mounted at /content/drive\n",
            "/content/MVSEP-MDX23-music-separation-model\n",
            "Kurulum tamamlandı!\n"
          ]
        }
      ],
      "source": [
        "#@markdown #Kurulum\n",
        "#@markdown *MVSep-MDX23'ü yüklemek için bu hücreyi çalıştırın*\n",
        "print('Yükleniyor. Bu işlem 1 dakika sürecektir...')\n",
        "\n",
        "from google.colab import drive\n",
        "drive.mount('/content/drive')\n",
        "!git clone https://github.com/ZFTurbo/MVSEP-MDX23-music-separation-model.git &> /dev/null\n",
        "%cd /content/MVSEP-MDX23-music-separation-model\n",
        "!pip install -r requirements.txt &> /dev/null\n",
        "print('Kurulum tamamlandı!')"
      ]
    },
    {
      "cell_type": "code",
      "execution_count": 5,
      "metadata": {
        "id": "V7n1nXKsU4sd",
        "cellView": "form",
        "outputId": "f631e75c-83af-4f34-c4a6-a78677517c64",
        "colab": {
          "base_uri": "https://localhost:8080/"
        }
      },
      "outputs": [
        {
          "output_type": "stream",
          "name": "stdout",
          "text": [
            "GPU use: 0\n",
            "Version: 1.0.1\n",
            "Options: \n",
            "input_audio: ['/content/Stronger Than You - Chara Response (Undertale Animation Parody).mp3']\n",
            "output_folder: ./results/Stronger Than You - Chara Response (Undertale Animation Parody)\n",
            "cpu: False\n",
            "overlap_large: 0.6\n",
            "overlap_small: 0.5\n",
            "single_onnx: False\n",
            "chunk_size: 500000\n",
            "large_gpu: False\n",
            "use_kim_model_1: False\n",
            "only_vocals: False\n",
            "Use low GPU memory version of code\n",
            "Use device: cuda:0\n",
            "Use Kim model 2\n",
            "Go for: /content/Stronger Than You - Chara Response (Undertale Animation Parody).mp3\n",
            "Input audio: (2, 7812096) Sample rate: 44100\n",
            "100% 80.2M/80.2M [00:00<00:00, 162MB/s]\n",
            "100% 63.7M/63.7M [00:03<00:00, 19.4MB/s]\n",
            "Model path: /content/MVSEP-MDX23-music-separation-model/models/Kim_Vocal_2.onnx\n",
            "Device: cuda:0 Chunk size: 500000\n",
            "/content/MVSEP-MDX23-music-separation-model/inference.py:131: UserWarning: Creating a tensor from a list of numpy.ndarrays is extremely slow. Please consider converting the list to a single numpy.ndarray with numpy.array() before converting to a tensor. (Triggered internally at ../torch/csrc/utils/tensor_new.cpp:245.)\n",
            "  mix_waves = torch.tensor(mix_waves, dtype=torch.float32).to(device)\n",
            "100% 63.7M/63.7M [00:03<00:00, 18.5MB/s]\n",
            "Model path: /content/MVSEP-MDX23-music-separation-model/models/Kim_Inst.onnx\n",
            "Device: cuda:0 Chunk size: 500000\n",
            "Downloading: \"https://dl.fbaipublicfiles.com/demucs/hybrid_transformer/f7e0c4bc-ba3fe64a.th\" to /root/.cache/torch/hub/checkpoints/f7e0c4bc-ba3fe64a.th\n",
            "100% 80.2M/80.2M [00:00<00:00, 169MB/s]\n",
            "Downloading: \"https://dl.fbaipublicfiles.com/demucs/hybrid_transformer/d12395a8-e57c48e6.th\" to /root/.cache/torch/hub/checkpoints/d12395a8-e57c48e6.th\n",
            "100% 80.2M/80.2M [00:00<00:00, 153MB/s]\n",
            "Downloading: \"https://dl.fbaipublicfiles.com/demucs/hybrid_transformer/92cfc3b6-ef3bcb9c.th\" to /root/.cache/torch/hub/checkpoints/92cfc3b6-ef3bcb9c.th\n",
            "100% 80.2M/80.2M [00:00<00:00, 147MB/s]\n",
            "Downloading: \"https://dl.fbaipublicfiles.com/demucs/hybrid_transformer/04573f0d-f3cf25b2.th\" to /root/.cache/torch/hub/checkpoints/04573f0d-f3cf25b2.th\n",
            "100% 80.2M/80.2M [00:00<00:00, 109MB/s]\n",
            "Downloading: \"https://dl.fbaipublicfiles.com/demucs/hybrid_transformer/955717e8-8726e21a.th\" to /root/.cache/torch/hub/checkpoints/955717e8-8726e21a.th\n",
            "100% 80.2M/80.2M [00:00<00:00, 116MB/s]\n",
            "Downloading: \"https://dl.fbaipublicfiles.com/demucs/hybrid_transformer/5c90dfd2-34c22ccb.th\" to /root/.cache/torch/hub/checkpoints/5c90dfd2-34c22ccb.th\n",
            "100% 52.4M/52.4M [00:00<00:00, 97.1MB/s]\n",
            "Downloading: \"https://dl.fbaipublicfiles.com/demucs/hybrid_transformer/75fc33f5-1941ce65.th\" to /root/.cache/torch/hub/checkpoints/75fc33f5-1941ce65.th\n",
            "100% 160M/160M [00:01<00:00, 94.6MB/s]\n",
            "File created: ./results/Stronger Than You - Chara Response (Undertale Animation Parody)/Stronger Than You - Chara Response (Undertale Animation Parody)_bass.wav\n",
            "File created: ./results/Stronger Than You - Chara Response (Undertale Animation Parody)/Stronger Than You - Chara Response (Undertale Animation Parody)_drums.wav\n",
            "File created: ./results/Stronger Than You - Chara Response (Undertale Animation Parody)/Stronger Than You - Chara Response (Undertale Animation Parody)_other.wav\n",
            "File created: ./results/Stronger Than You - Chara Response (Undertale Animation Parody)/Stronger Than You - Chara Response (Undertale Animation Parody)_vocals.wav\n",
            "File created: ./results/Stronger Than You - Chara Response (Undertale Animation Parody)/Stronger Than You - Chara Response (Undertale Animation Parody)_instrum.wav\n",
            "File created: ./results/Stronger Than You - Chara Response (Undertale Animation Parody)/Stronger Than You - Chara Response (Undertale Animation Parody)_instrum2.wav\n",
            "Time: 290 sec\n",
            "Presented by https://mvsep.com\n"
          ]
        }
      ],
      "source": [
        "#@markdown #Ayırma\n",
        "from pathlib import Path\n",
        "\n",
        "def console(t):\n",
        "    get_ipython().system(t)\n",
        "\n",
        "dosya_yolu = '/content/Stronger Than You - Chara Response (Undertale Animation Parody).mp3' #@param {type:\"string\"}\n",
        "örtüşme_büyük = 0.6 #@param {type:\"slider\", min:0.1, max:1, step:0.05}\n",
        "örtüşme_küçük = 0.5 #@param {type:\"slider\", min:0.1, max:1, step:0.05}\n",
        "#@markdown *Bellek hataları oluşuyosa daha düşük yığın_boyutu kullanın*\n",
        "yığın_boyutu = 500000 #@param {type:\"slider\", min:100000, max:1000000, step:100000}\n",
        "#@markdown ---\n",
        "\n",
        "#@markdown *Çıktı dosyaları /content/MVSEP-MDX23-music-separation-model/results dizinine kaydedilecektir*\n",
        "Path('results').mkdir(parents=True, exist_ok=True)\n",
        "filename =  Path(dosya_yolu).stem\n",
        "console(f'python inference.py --chunk_size {yığın_boyutu} --input_audio \"{dosya_yolu}\" --output_folder \"./results/{filename}\"')"
      ]
    }
  ],
  "metadata": {
    "accelerator": "GPU",
    "colab": {
      "gpuType": "T4",
      "provenance": [],
      "include_colab_link": true
    },
    "gpuClass": "standard",
    "kernelspec": {
      "display_name": "Python 3",
      "name": "python3"
    },
    "language_info": {
      "name": "python"
    }
  },
  "nbformat": 4,
  "nbformat_minor": 0
}