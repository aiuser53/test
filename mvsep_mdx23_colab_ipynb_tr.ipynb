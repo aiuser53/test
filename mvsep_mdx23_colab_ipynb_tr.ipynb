{
  "cells": [
    {
      "cell_type": "markdown",
      "metadata": {
        "id": "view-in-github",
        "colab_type": "text"
      },
      "source": [
        "<a href=\"https://colab.research.google.com/github/aiuser53/test/blob/main/mvsep_mdx23_colab_ipynb_tr.ipynb\" target=\"_parent\"><img src=\"https://colab.research.google.com/assets/colab-badge.svg\" alt=\"Open In Colab\"/></a>"
      ]
    },
    {
      "cell_type": "markdown",
      "metadata": {
        "id": "TkR0saXIcvyC"
      },
      "source": [
        "# MVSep MDX23 Colab\n",
        "MDX23 algoritmasının Colab versiyonu [MVSEP.COM](https://www.mvsep.com)\n",
        "\n",
        "Credits:\n",
        "* [https://github.com/ZFTurbo/MVSEP-MDX23-music-separation-model](https://github.com/ZFTurbo/MVSEP-MDX23-music-separation-model)\n",
        "* Modeller [Demucs](https://github.com/facebookresearch/demucs) & Kimberley Jensen tarafından"
      ]
    },
    {
      "cell_type": "code",
      "execution_count": null,
      "metadata": {
        "cellView": "form",
        "id": "uWX5WOqjU0QC"
      },
      "outputs": [],
      "source": [
        "#@markdown #Kurulum\n",
        "#@markdown *MVSep-MDX23'ü yüklemek için bu hücreyi çalıştırın*\n",
        "print('Yükleniyor. Bu işlem 1 dakika sürecektir...')\n",
        "\n",
        "from google.colab import drive\n",
        "drive.mount('/content/drive')\n",
        "!git clone https://github.com/ZFTurbo/MVSEP-MDX23-music-separation-model.git &> /dev/null\n",
        "%cd /content/MVSEP-MDX23-music-separation-model\n",
        "!pip install -r requirements.txt &> /dev/null\n",
        "print('Kurulum tamamlandı!')"
      ]
    },
    {
      "cell_type": "code",
      "execution_count": null,
      "metadata": {
        "id": "V7n1nXKsU4sd",
        "cellView": "form"
      },
      "outputs": [],
      "source": [
        "#@markdown #Ayırma\n",
        "from pathlib import Path\n",
        "\n",
        "def console(t):\n",
        "    get_ipython().system(t)\n",
        "\n",
        "dosya_yolu = '' #@param {type:\"string\"}\n",
        "örtüşme_büyük = 0.6 #@param {type:\"slider\", min:0.1, max:1, step:0.05}\n",
        "örtüşme_küçük = 0.5 #@param {type:\"slider\", min:0.1, max:1, step:0.05}\n",
        "#@markdown *Bellek hataları oluşuyosa daha düşük yığın_boyutu kullanın*\n",
        "yığın_boyutu = 500000 #@param {type:\"slider\", min:100000, max:1000000, step:100000}\n",
        "#@markdown ---\n",
        "\n",
        "#@markdown *Çıktı dosyaları /content/MVSEP-MDX23-music-separation-model/results dizinine kaydedilecektir*\n",
        "Path('results').mkdir(parents=True, exist_ok=True)\n",
        "filename =  Path(file_path).stem\n",
        "console(f'python inference.py --chunk_size {chunk_size} --input_audio \"{file_path}\" --output_folder \"./results/{filename}\"')"
      ]
    }
  ],
  "metadata": {
    "accelerator": "GPU",
    "colab": {
      "gpuType": "T4",
      "provenance": [],
      "include_colab_link": true
    },
    "gpuClass": "standard",
    "kernelspec": {
      "display_name": "Python 3",
      "name": "python3"
    },
    "language_info": {
      "name": "python"
    }
  },
  "nbformat": 4,
  "nbformat_minor": 0
}